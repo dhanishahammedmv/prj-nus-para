{
  "nbformat": 4,
  "nbformat_minor": 0,
  "metadata": {
    "colab": {
      "provenance": []
    },
    "kernelspec": {
      "name": "python3",
      "display_name": "Python 3"
    },
    "language_info": {
      "name": "python"
    }
  },
  "cells": [
    {
      "cell_type": "code",
      "source": [
        "!pip install -q PyMuPDF\n",
        "!pip install -q fuzzywuzzy"
      ],
      "metadata": {
        "id": "6jlOXX2efq5i",
        "colab": {
          "base_uri": "https://localhost:8080/"
        },
        "outputId": "915f6255-13c3-4faf-a483-fa6e8c020355"
      },
      "execution_count": 1,
      "outputs": [
        {
          "output_type": "stream",
          "name": "stdout",
          "text": [
            "\u001b[2K   \u001b[90m━━━━━━━━━━━━━━━━━━━━━━━━━━━━━━━━━━━━━━━━\u001b[0m \u001b[32m24.1/24.1 MB\u001b[0m \u001b[31m62.2 MB/s\u001b[0m eta \u001b[36m0:00:00\u001b[0m\n",
            "\u001b[?25h"
          ]
        }
      ]
    },
    {
      "cell_type": "code",
      "source": [
        "!pip install PyMuPDF fuzzywuzzy python-Levenshtein"
      ],
      "metadata": {
        "colab": {
          "base_uri": "https://localhost:8080/"
        },
        "id": "eezjka-7i12u",
        "outputId": "3285773c-f3d7-418b-dcab-6c30de574c6e"
      },
      "execution_count": 2,
      "outputs": [
        {
          "output_type": "stream",
          "name": "stdout",
          "text": [
            "Requirement already satisfied: PyMuPDF in /usr/local/lib/python3.12/dist-packages (1.26.4)\n",
            "Requirement already satisfied: fuzzywuzzy in /usr/local/lib/python3.12/dist-packages (0.18.0)\n",
            "Collecting python-Levenshtein\n",
            "  Downloading python_levenshtein-0.27.1-py3-none-any.whl.metadata (3.7 kB)\n",
            "Collecting Levenshtein==0.27.1 (from python-Levenshtein)\n",
            "  Downloading levenshtein-0.27.1-cp312-cp312-manylinux_2_17_x86_64.manylinux2014_x86_64.whl.metadata (3.6 kB)\n",
            "Collecting rapidfuzz<4.0.0,>=3.9.0 (from Levenshtein==0.27.1->python-Levenshtein)\n",
            "  Downloading rapidfuzz-3.14.0-cp312-cp312-manylinux_2_27_x86_64.manylinux_2_28_x86_64.whl.metadata (12 kB)\n",
            "Downloading python_levenshtein-0.27.1-py3-none-any.whl (9.4 kB)\n",
            "Downloading levenshtein-0.27.1-cp312-cp312-manylinux_2_17_x86_64.manylinux2014_x86_64.whl (159 kB)\n",
            "\u001b[2K   \u001b[90m━━━━━━━━━━━━━━━━━━━━━━━━━━━━━━━━━━━━━━━━\u001b[0m \u001b[32m159.9/159.9 kB\u001b[0m \u001b[31m2.0 MB/s\u001b[0m eta \u001b[36m0:00:00\u001b[0m\n",
            "\u001b[?25hDownloading rapidfuzz-3.14.0-cp312-cp312-manylinux_2_27_x86_64.manylinux_2_28_x86_64.whl (3.3 MB)\n",
            "\u001b[2K   \u001b[90m━━━━━━━━━━━━━━━━━━━━━━━━━━━━━━━━━━━━━━━━\u001b[0m \u001b[32m3.3/3.3 MB\u001b[0m \u001b[31m26.1 MB/s\u001b[0m eta \u001b[36m0:00:00\u001b[0m\n",
            "\u001b[?25hInstalling collected packages: rapidfuzz, Levenshtein, python-Levenshtein\n",
            "Successfully installed Levenshtein-0.27.1 python-Levenshtein-0.27.1 rapidfuzz-3.14.0\n"
          ]
        }
      ]
    },
    {
      "cell_type": "code",
      "source": [
        "import fitz\n",
        "from fuzzywuzzy import fuzz, process\n",
        "import re\n",
        "from typing import List, Dict, Tuple, Optional\n",
        "from dataclasses import dataclass\n",
        "import json"
      ],
      "metadata": {
        "id": "DQO3RPsdO81G"
      },
      "execution_count": 4,
      "outputs": []
    },
    {
      "cell_type": "code",
      "source": [
        "@dataclass\n",
        "class ParagraphMatch:\n",
        "    text: str\n",
        "    page_number: int\n",
        "    bbox: Tuple[float, float, float, float]  # (x0, y0, x1, y1)\n",
        "    similarity_score: int\n",
        "    block_number: int\n",
        "    line_numbers: List[int]\n",
        "\n",
        "class PDFParagraphLocator:\n",
        "    def __init__(self, pdf_path: str, min_similarity: int = 70):\n",
        "        self.pdf_path = pdf_path\n",
        "        self.min_similarity = min_similarity\n",
        "        self.doc = None\n",
        "        self.paragraphs = []\n",
        "\n",
        "    def __enter__(self):\n",
        "        self.doc = fitz.open(self.pdf_path)\n",
        "        return self\n",
        "\n",
        "    def __exit__(self, exc_type, exc_val, exc_tb):\n",
        "        if self.doc:\n",
        "            self.doc.close()\n",
        "\n",
        "    def extract_paragraphs(self) -> List[Dict]:\n",
        "        paragraphs = []\n",
        "        for page_num in range(len(self.doc)):\n",
        "            page = self.doc[page_num]\n",
        "            blocks = page.get_text(\"dict\")\n",
        "            for block_idx, block in enumerate(blocks[\"blocks\"]):\n",
        "                if \"lines\" not in block:\n",
        "                    continue\n",
        "                paragraph_text = \"\"\n",
        "                line_numbers = []\n",
        "                bbox = None\n",
        "                for line_idx, line in enumerate(block[\"lines\"]):\n",
        "                    line_text = \"\"\n",
        "                    for span in line[\"spans\"]:\n",
        "                        line_text += span[\"text\"]\n",
        "                    if line_text.strip():\n",
        "                        paragraph_text += line_text + \" \"\n",
        "                        line_numbers.append(line_idx)\n",
        "                        if bbox is None:\n",
        "                            bbox = line[\"bbox\"]\n",
        "                        else:\n",
        "                            bbox = (\n",
        "                                min(bbox[0], line[\"bbox\"][0]),  # x0\n",
        "                                min(bbox[1], line[\"bbox\"][1]),  # y0\n",
        "                                max(bbox[2], line[\"bbox\"][2]),  # x1\n",
        "                                max(bbox[3], line[\"bbox\"][3])   # y1\n",
        "                            )\n",
        "                paragraph_text = re.sub(r'\\s+', ' ', paragraph_text.strip())\n",
        "                if len(paragraph_text) > 20:\n",
        "                    paragraphs.append({\n",
        "                        'text': paragraph_text,\n",
        "                        'page_number': page_num + 1,\n",
        "                        'bbox': bbox,\n",
        "                        'block_number': block_idx,\n",
        "                        'line_numbers': line_numbers,\n",
        "                        'char_count': len(paragraph_text),\n",
        "                        'word_count': len(paragraph_text.split())\n",
        "                    })\n",
        "        self.paragraphs = paragraphs\n",
        "        return paragraphs\n",
        "\n",
        "    def find_paragraphs(self, search_text: str, max_results: int = 5) -> List[ParagraphMatch]:\n",
        "        if not self.paragraphs:\n",
        "            self.extract_paragraphs()\n",
        "        matches = []\n",
        "        for para in self.paragraphs:\n",
        "            similarity = fuzz.partial_ratio(search_text.lower(), para['text'].lower())\n",
        "            if similarity >= self.min_similarity:\n",
        "                match = ParagraphMatch(\n",
        "                    text=para['text'],\n",
        "                    page_number=para['page_number'],\n",
        "                    bbox=para['bbox'],\n",
        "                    similarity_score=similarity,\n",
        "                    block_number=para['block_number'],\n",
        "                    line_numbers=para['line_numbers']\n",
        "                )\n",
        "                matches.append(match)\n",
        "        matches.sort(key=lambda x: x.similarity_score, reverse=True)\n",
        "        return matches[:max_results]\n",
        "    def get_best_match(self, search_text: str) -> Optional[ParagraphMatch]:\n",
        "        matches = self.find_paragraphs(search_text, max_results=1)\n",
        "        return matches[0] if matches else None\n",
        "    def search_multiple_terms(self, search_terms: List[str]) -> Dict[str, List[ParagraphMatch]]:\n",
        "        results = {}\n",
        "        for term in search_terms:\n",
        "            results[term] = self.find_paragraphs(term)\n",
        "        return results\n",
        "    def get_context_around_match(self, match: ParagraphMatch, context_paragraphs: int = 1) -> List[str]:\n",
        "        if not self.paragraphs:\n",
        "            return [match.text]\n",
        "        match_idx = None\n",
        "        for i, para in enumerate(self.paragraphs):\n",
        "            if (para['page_number'] == match.page_number and\n",
        "                para['block_number'] == match.block_number):\n",
        "                match_idx = i\n",
        "                break\n",
        "        if match_idx is None:\n",
        "            return [match.text]\n",
        "        start_idx = max(0, match_idx - context_paragraphs)\n",
        "        end_idx = min(len(self.paragraphs), match_idx + context_paragraphs + 1)\n",
        "        context_texts = []\n",
        "        for i in range(start_idx, end_idx):\n",
        "            prefix = \">>> \" if i == match_idx else \"    \"\n",
        "            context_texts.append(f\"{prefix}{self.paragraphs[i]['text']}\")\n",
        "        return context_texts\n",
        "    def print_match_details(self, match: ParagraphMatch, include_context: bool = False):\n",
        "        print(f\"Match found (Similarity: {match.similarity_score}%)\")\n",
        "        print(f\"Page: {match.page_number}\")\n",
        "        print(f\"Position: x={match.bbox[0]:.1f}, y={match.bbox[1]:.1f}\")\n",
        "        print(f\"Size: {match.bbox[2]-match.bbox[0]:.1f}x{match.bbox[3]-match.bbox[1]:.1f}\")\n",
        "        print(f\"Block: {match.block_number}\")\n",
        "        print(\"-\" * 50)\n",
        "        if include_context:\n",
        "            context = self.get_context_around_match(match)\n",
        "            for line in context:\n",
        "                print(line)\n",
        "        else:\n",
        "            print(match.text)"
      ],
      "metadata": {
        "id": "YbWtmBd9PKnj"
      },
      "execution_count": 5,
      "outputs": []
    },
    {
      "cell_type": "code",
      "source": [
        "def demo_usage():\n",
        "    pdf_file = \"median.pdf\"\n",
        "    try:\n",
        "        with PDFParagraphLocator(pdf_file, min_similarity=60) as locator:\n",
        "            paragraphs = locator.extract_paragraphs()\n",
        "            print(f\"Found {len(paragraphs)} paragraphs\")\n",
        "            search_queries = [\n",
        "                \"\"\" By a comparison-based sorting algorithm, we mean an algorithm that learns about the elements of the\n",
        " input array A only by comparing them. Non-examples include radix sort, which needs to access the bits of A s\n",
        " elements, as well as bucket and counting sorts, which need to know the precise values of A s elements. (These\n",
        " algorithms run in linear time in certain cases, such as when all array elements are small integers.) Examples\n",
        " of comparison-based sorting algorithms include MergeSort, HeapSort, and QuickSort. Such algorithms are\n",
        " useful in practice because they are general-purpose and make no assumptions about what kind of elements\n",
        " you want to sort (e.g., the UNIX qsort function requires only a pointer to the data to be sorted and a\n",
        " function pointer to a user-speci ed comparison subroutine).\"\"\"\n",
        "            ]\n",
        "\n",
        "            print(\"\\nSearching for paragraphs...\")\n",
        "            for query in search_queries:\n",
        "                print(f\"\\nSearching for: '{query}'\")\n",
        "                matches = locator.find_paragraphs(query, max_results=3)\n",
        "                if matches:\n",
        "                    for i, match in enumerate(matches):\n",
        "                        print(f\"\\nResult {i+1}:\")\n",
        "                        locator.print_match_details(match, include_context=True)\n",
        "                else:\n",
        "                    print(\"No matches found\")\n",
        "            sample_snippet = \"The rapid advancement of technology has transformed\"\n",
        "            print(f\"\\nFinding best match for: '{sample_snippet}'\")\n",
        "            best_match = locator.get_best_match(sample_snippet)\n",
        "            if best_match:\n",
        "                print(\"Best match found:\")\n",
        "                locator.print_match_details(best_match, include_context=True)\n",
        "            else:\n",
        "                print(\"No suitable match found\")\n",
        "\n",
        "    except FileNotFoundError:\n",
        "        print(f\"Error: PDF file '{pdf_file}' not found\")\n",
        "        print(\"Please update the pdf_file variable with the correct path to your PDF\")\n",
        "    except Exception as e:\n",
        "        print(f\"Error processing PDF: {str(e)}\")"
      ],
      "metadata": {
        "id": "10cfFWgzPQ-h"
      },
      "execution_count": 6,
      "outputs": []
    },
    {
      "cell_type": "code",
      "source": [
        "def interactive_search():\n",
        "    \"\"\"Interactive search function for user input\"\"\"\n",
        "    pdf_file = input(\"Enter PDF file path: \").strip()\n",
        "\n",
        "    try:\n",
        "        with PDFParagraphLocator(pdf_file, min_similarity=70) as locator:\n",
        "            paragraphs = locator.extract_paragraphs()\n",
        "            print(f\"Found {len(paragraphs)} paragraphs\\n\")\n",
        "            while True:\n",
        "                search_text = input(\"Enter text to search for (or 'quit' to exit): \").strip()\n",
        "                if search_text.lower() == 'quit':\n",
        "                    break\n",
        "                matches = locator.find_paragraphs(search_text, max_results=5)\n",
        "                if matches:\n",
        "                    print(f\"\\nFound {len(matches)} matches:\")\n",
        "                    for i, match in enumerate(matches):\n",
        "                        print(f\"\\n--- Match {i+1} ---\")\n",
        "                        locator.print_match_details(match)\n",
        "                else:\n",
        "                    print(\"No matches found\")\n",
        "\n",
        "    except FileNotFoundError:\n",
        "        print(f\"Error: PDF file '{pdf_file}' not found\")\n",
        "    except Exception as e:\n",
        "        print(f\"Error: {str(e)}\")"
      ],
      "metadata": {
        "id": "1xi575gEPTeT"
      },
      "execution_count": 7,
      "outputs": []
    },
    {
      "cell_type": "code",
      "source": [
        "def analyze_pdf_structure(pdf_path: str):\n",
        "    try:\n",
        "        with PDFParagraphLocator(pdf_path) as locator:\n",
        "            paragraphs = locator.extract_paragraphs()\n",
        "            \"\"\"Basic statistics\"\"\"\n",
        "            total_paragraphs = len(paragraphs)\n",
        "            total_pages = len(locator.doc)\n",
        "            char_counts = [p['char_count'] for p in paragraphs]\n",
        "            word_counts = [p['word_count'] for p in paragraphs]\n",
        "            avg_chars = sum(char_counts) / len(char_counts) if char_counts else 0\n",
        "            avg_words = sum(word_counts) / len(word_counts) if word_counts else 0\n",
        "\n",
        "            print(f\"PDF Analysis Results:\")\n",
        "            print(f\"Total pages: {total_pages}\")\n",
        "            print(f\"Total paragraphs: {total_paragraphs}\")\n",
        "            print(f\"Average paragraph length: {avg_chars:.1f} characters, {avg_words:.1f} words\")\n",
        "            print(f\"Longest paragraph: {max(char_counts) if char_counts else 0} characters\")\n",
        "            print(f\"Shortest paragraph: {min(char_counts) if char_counts else 0} characters\")\n",
        "            print(f\"\\nFirst 3 paragraphs:\")\n",
        "            for i, para in enumerate(paragraphs[:3]):\n",
        "                print(f\"\\nParagraph {i+1} (Page {para['page_number']}):\")\n",
        "                print(f\"Position: ({para['bbox'][0]:.1f}, {para['bbox'][1]:.1f})\")\n",
        "                print(f\"Text: {para['text'][:100]}{'...' if len(para['text']) > 100 else ''}\")\n",
        "\n",
        "    except Exception as e:\n",
        "        print(f\"Error analyzing PDF: {str(e)}\")"
      ],
      "metadata": {
        "id": "PuwButgmPWUT"
      },
      "execution_count": 8,
      "outputs": []
    },
    {
      "cell_type": "code",
      "source": [
        "def search_for_keywords(pdf_path: str, keywords: List[str]):\n",
        "    with PDFParagraphLocator(pdf_path, min_similarity=60) as locator:\n",
        "        results = locator.search_multiple_terms(keywords)\n",
        "\n",
        "        for keyword, matches in results.items():\n",
        "            print(f\"\\nResults for '{keyword}':\")\n",
        "            if matches:\n",
        "                for match in matches[:2]:\n",
        "                    print(f\"  Page {match.page_number} (Score: {match.similarity_score}%)\")\n",
        "                    print(f\"  {match.text[:150]}...\")\n",
        "            else:\n",
        "                print(\"  No matches found\")"
      ],
      "metadata": {
        "id": "qJeCYAC9PYtS"
      },
      "execution_count": 9,
      "outputs": []
    },
    {
      "cell_type": "code",
      "source": [
        "def export_matches_to_json(matches: List[ParagraphMatch], output_file: str):\n",
        "    export_data = []\n",
        "    for match in matches:\n",
        "        export_data.append({\n",
        "            'text': match.text,\n",
        "            'page_number': match.page_number,\n",
        "            'bbox': match.bbox,\n",
        "            'similarity_score': match.similarity_score,\n",
        "            'block_number': match.block_number,\n",
        "            'line_numbers': match.line_numbers\n",
        "        })\n",
        "\n",
        "    with open(output_file, 'w', encoding='utf-8') as f:\n",
        "        json.dump(export_data, f, indent=2, ensure_ascii=False)\n",
        "    print(f\"Exported {len(matches)} matches to {output_file}\")"
      ],
      "metadata": {
        "id": "h7N1hcKVPcBP"
      },
      "execution_count": 10,
      "outputs": []
    },
    {
      "cell_type": "code",
      "source": [
        "if __name__ == \"__main__\":\n",
        "    PDF_FILE = \"median.pdf\"\n",
        "    SEARCH_TEXTS = [\n",
        "        \"\"\"\" By a comparison-based sorting algorithm, we mean an algorithm that learns about the elements of the\n",
        " input array A only by comparing them. Non-examples include radix sort, which needs to access the bits of A s\n",
        " elements, as well as bucket and counting sorts, which need to know the precise values of A s elements. (These\n",
        " algorithms run in linear time in certain cases, such as when all array elements are small integers.) Examples\n",
        " of comparison-based sorting algorithms include MergeSort, HeapSort, and QuickSort. Such algorithms are\n",
        " useful in practice because they are general-purpose and make no assumptions about what kind of elements\n",
        " you want to sort (e.g., the UNIX qsort function requires only a pointer to the data to be sorted and a\n",
        " function pointer to a user-speci ed comparison subroutine).\"\"\"\n",
        "    ]\n",
        "\n",
        "    try:\n",
        "        analyze_pdf_structure(PDF_FILE)\n",
        "        with PDFParagraphLocator(PDF_FILE, min_similarity=70) as locator:\n",
        "            for search_text in SEARCH_TEXTS:\n",
        "                matches = locator.find_paragraphs(search_text, max_results=2)\n",
        "                if matches:\n",
        "                    for match in matches:\n",
        "                        locator.print_match_details(match)\n",
        "                else:\n",
        "                    print(\"No matches found\")\n",
        "\n",
        "    except FileNotFoundError:\n",
        "        print(f\"\\nFile '{PDF_FILE}' not found. Please upload your PDF and update the file path.\")\n",
        "    except Exception as e:\n",
        "        print(f\"\\nDemo error: {str(e)}\")\n",
        "        print(\"This is expected if you haven't uploaded a PDF file yet.\")"
      ],
      "metadata": {
        "colab": {
          "base_uri": "https://localhost:8080/"
        },
        "id": "HMlBcNnTPezI",
        "outputId": "e7b7553b-b3e8-4986-acf9-08e586731142"
      },
      "execution_count": 11,
      "outputs": [
        {
          "output_type": "stream",
          "name": "stdout",
          "text": [
            "PDF Analysis Results:\n",
            "Total pages: 4\n",
            "Total paragraphs: 34\n",
            "Average paragraph length: 393.9 characters, 72.8 words\n",
            "Longest paragraph: 2667 characters\n",
            "Shortest paragraph: 24 characters\n",
            "\n",
            "First 3 paragraphs:\n",
            "\n",
            "Paragraph 1 (Page 1):\n",
            "Position: (72.0, 72.9)\n",
            "Text: CS161, Winter 2011 Handout #6\n",
            "\n",
            "Paragraph 2 (Page 1):\n",
            "Position: (91.4, 105.8)\n",
            "Text: Notes on Linear-Time Selection, and a Sorting Lower Bound\n",
            "\n",
            "Paragraph 3 (Page 1):\n",
            "Position: (72.0, 163.8)\n",
            "Text: In the Selection problem, we are given an array A containing n distinct numbers and an integer i ∈ {...\n",
            "Match found (Similarity: 99%)\n",
            "Page: 4\n",
            "Position: x=72.0, y=266.8\n",
            "Size: 468.1x213.2\n",
            "Block: 10\n",
            "--------------------------------------------------\n",
            "Can the above linear-time bound be extended to the more general problem of sorting an array? We next show that the answer is “no” for comparison-based sorting algorithms. By a comparison-based sorting algorithm, we mean an algorithm that learns about the elements of the input array A only by comparing them. Non-examples include radix sort, which needs to access the bits of A’s elements, as well as bucket and counting sorts, which need to know the precise values of A’s elements. (These algorithms run in linear time in certain cases, such as when all array elements are small integers.) Examples of comparison-based sorting algorithms include MergeSort, HeapSort, and QuickSort. Such algorithms are useful in practice because they are general-purpose and make no assumptions about what kind of elements you want to sort (e.g., the UNIX qsort function requires only a pointer to the data to be sorted and a function pointer to a user-speciﬁed comparison subroutine). Consider a comparison-based sorting algorithm that always makes at most k comparisons to correctly sort an input array of length n. By the deﬁnition of being comparison-based, the only knowledge the algorithm has about the relative order of the input elements is what can be inferred from the results of its comparisons (and the transitive closure of these results). Using at most k comparisons yields at most 2k distinct comparison results, so the algorithm can infer at most 2k distinct relative orderings. Since the algorithm needs to distinguish the n! diﬀerent possible relative orderings of A’s elements, we have 2k ≥n!. Since n! ≥(n/2)n/2 — or much sharper estimates follow from Stirling’s approximation, if you like — we can take logarithms base 2 to obtain k ≥n\n",
            "Match found (Similarity: 78%)\n",
            "Page: 4\n",
            "Position: x=72.0, y=241.6\n",
            "Size: 439.6x14.3\n",
            "Block: 9\n",
            "--------------------------------------------------\n",
            "5 A Lower Bound for Comparison-Based Sorting Algorithms\n"
          ]
        }
      ]
    }
  ]
}